{
 "cells": [
  {
   "cell_type": "code",
   "execution_count": 1,
   "metadata": {},
   "outputs": [
    {
     "name": "stderr",
     "output_type": "stream",
     "text": [
      "/Users/bapa/miniconda3/envs/afrika-pos/lib/python3.11/site-packages/tqdm/auto.py:21: TqdmWarning: IProgress not found. Please update jupyter and ipywidgets. See https://ipywidgets.readthedocs.io/en/stable/user_install.html\n",
      "  from .autonotebook import tqdm as notebook_tqdm\n"
     ]
    }
   ],
   "source": [
    "import os \n",
    "from model import AfrikaPOS"
   ]
  },
  {
   "cell_type": "code",
   "execution_count": 2,
   "metadata": {},
   "outputs": [],
   "source": [
    "LANG = 'ewe'\n",
    "DATA_DIR = os.path.join('..', 'data_source', 'masakhane-pos', 'data', LANG)\n",
    "BASE_MODEL = 'bert-base-uncased'\n",
    "\n",
    "NUM_HIDDENS = 2\n",
    "NUM_ATTENTIONS = 1"
   ]
  },
  {
   "cell_type": "code",
   "execution_count": 3,
   "metadata": {},
   "outputs": [
    {
     "name": "stdout",
     "output_type": "stream",
     "text": [
      "\n",
      "\n",
      "\n",
      "huggingface/tokenizers: The current process just got forked, after parallelism has already been used. Disabling parallelism to avoid deadlocks...\n",
      "To disable this warning, you can either:\n",
      "\t- Avoid using `tokenizers` before the fork if possible\n",
      "\t- Explicitly set the environment variable TOKENIZERS_PARALLELISM=(true | false)\n"
     ]
    },
    {
     "name": "stderr",
     "output_type": "stream",
     "text": [
      "Map: 100%|██████████| 728/728 [00:00<00:00, 16234.35 examples/s]\n",
      "Map: 100%|██████████| 582/582 [00:00<00:00, 20212.34 examples/s]\n",
      "Map: 100%|██████████| 145/145 [00:00<00:00, 17509.98 examples/s]\n"
     ]
    }
   ],
   "source": [
    "model = AfrikaPOS(DATA_DIR, NUM_HIDDENS, NUM_ATTENTIONS, BASE_MODEL)"
   ]
  },
  {
   "cell_type": "code",
   "execution_count": 4,
   "metadata": {},
   "outputs": [
    {
     "name": "stderr",
     "output_type": "stream",
     "text": [
      "  0%|          | 0/460 [00:00<?, ?it/s]You're using a BertTokenizerFast tokenizer. Please note that with a fast tokenizer, using the `__call__` method is faster than using a method to encode the text followed by a call to the `pad` method to get a padded encoding.\n",
      " 10%|▉         | 45/460 [00:05<00:43,  9.49it/s]/Users/bapa/miniconda3/envs/afrika-pos/lib/python3.11/site-packages/sklearn/metrics/_classification.py:1469: UndefinedMetricWarning: Precision and F-score are ill-defined and being set to 0.0 in labels with no predicted samples. Use `zero_division` parameter to control this behavior.\n",
      "  _warn_prf(average, modifier, msg_start, len(result))\n",
      "/Users/bapa/miniconda3/envs/afrika-pos/lib/python3.11/site-packages/sklearn/metrics/_classification.py:1469: UndefinedMetricWarning: Precision and F-score are ill-defined and being set to 0.0 in labels with no predicted samples. Use `zero_division` parameter to control this behavior.\n",
      "  _warn_prf(average, modifier, msg_start, len(result))\n",
      "/Users/bapa/miniconda3/envs/afrika-pos/lib/python3.11/site-packages/sklearn/metrics/_classification.py:1469: UndefinedMetricWarning: Precision and F-score are ill-defined and being set to 0.0 in labels with no predicted samples. Use `zero_division` parameter to control this behavior.\n",
      "  _warn_prf(average, modifier, msg_start, len(result))\n",
      "                                                \n",
      " 10%|█         | 46/460 [00:05<00:43,  9.49it/s]"
     ]
    },
    {
     "name": "stdout",
     "output_type": "stream",
     "text": [
      "{'eval_loss': 0.597817599773407, 'eval_precision': 0.6085235545373097, 'eval_recall': 0.6273938384679434, 'eval_f1': 0.5830292259512614, 'eval_accuracy': 0.6273938384679434, 'eval_runtime': 0.5057, 'eval_samples_per_second': 286.748, 'eval_steps_per_second': 19.776, 'epoch': 1.0}\n"
     ]
    },
    {
     "name": "stderr",
     "output_type": "stream",
     "text": [
      " 20%|█▉        | 91/460 [00:09<00:25, 14.68it/s]/Users/bapa/miniconda3/envs/afrika-pos/lib/python3.11/site-packages/sklearn/metrics/_classification.py:1469: UndefinedMetricWarning: Precision and F-score are ill-defined and being set to 0.0 in labels with no predicted samples. Use `zero_division` parameter to control this behavior.\n",
      "  _warn_prf(average, modifier, msg_start, len(result))\n",
      "/Users/bapa/miniconda3/envs/afrika-pos/lib/python3.11/site-packages/sklearn/metrics/_classification.py:1469: UndefinedMetricWarning: Precision and F-score are ill-defined and being set to 0.0 in labels with no predicted samples. Use `zero_division` parameter to control this behavior.\n",
      "  _warn_prf(average, modifier, msg_start, len(result))\n",
      "/Users/bapa/miniconda3/envs/afrika-pos/lib/python3.11/site-packages/sklearn/metrics/_classification.py:1469: UndefinedMetricWarning: Precision and F-score are ill-defined and being set to 0.0 in labels with no predicted samples. Use `zero_division` parameter to control this behavior.\n",
      "  _warn_prf(average, modifier, msg_start, len(result))\n",
      "                                                \n",
      " 20%|██        | 92/460 [00:09<00:25, 14.68it/s]"
     ]
    },
    {
     "name": "stdout",
     "output_type": "stream",
     "text": [
      "{'eval_loss': 0.44979915022850037, 'eval_precision': 0.7331041688166248, 'eval_recall': 0.7119067443796836, 'eval_f1': 0.6893820737755906, 'eval_accuracy': 0.7119067443796836, 'eval_runtime': 0.1561, 'eval_samples_per_second': 928.618, 'eval_steps_per_second': 64.043, 'epoch': 2.0}\n"
     ]
    },
    {
     "name": "stderr",
     "output_type": "stream",
     "text": [
      " 30%|██▉       | 137/460 [00:12<00:22, 14.21it/s]/Users/bapa/miniconda3/envs/afrika-pos/lib/python3.11/site-packages/sklearn/metrics/_classification.py:1469: UndefinedMetricWarning: Precision and F-score are ill-defined and being set to 0.0 in labels with no predicted samples. Use `zero_division` parameter to control this behavior.\n",
      "  _warn_prf(average, modifier, msg_start, len(result))\n",
      "/Users/bapa/miniconda3/envs/afrika-pos/lib/python3.11/site-packages/sklearn/metrics/_classification.py:1469: UndefinedMetricWarning: Precision and F-score are ill-defined and being set to 0.0 in labels with no predicted samples. Use `zero_division` parameter to control this behavior.\n",
      "  _warn_prf(average, modifier, msg_start, len(result))\n",
      "/Users/bapa/miniconda3/envs/afrika-pos/lib/python3.11/site-packages/sklearn/metrics/_classification.py:1469: UndefinedMetricWarning: Precision and F-score are ill-defined and being set to 0.0 in labels with no predicted samples. Use `zero_division` parameter to control this behavior.\n",
      "  _warn_prf(average, modifier, msg_start, len(result))\n",
      "                                                 \n",
      " 30%|███       | 138/460 [00:13<00:22, 14.21it/s]"
     ]
    },
    {
     "name": "stdout",
     "output_type": "stream",
     "text": [
      "{'eval_loss': 0.38398364186286926, 'eval_precision': 0.782562383634994, 'eval_recall': 0.7556203164029975, 'eval_f1': 0.7354165850957848, 'eval_accuracy': 0.7556203164029975, 'eval_runtime': 0.1498, 'eval_samples_per_second': 968.242, 'eval_steps_per_second': 66.775, 'epoch': 3.0}\n"
     ]
    },
    {
     "name": "stderr",
     "output_type": "stream",
     "text": [
      " 40%|███▉      | 183/460 [00:16<00:19, 14.29it/s]/Users/bapa/miniconda3/envs/afrika-pos/lib/python3.11/site-packages/sklearn/metrics/_classification.py:1469: UndefinedMetricWarning: Precision and F-score are ill-defined and being set to 0.0 in labels with no predicted samples. Use `zero_division` parameter to control this behavior.\n",
      "  _warn_prf(average, modifier, msg_start, len(result))\n",
      "/Users/bapa/miniconda3/envs/afrika-pos/lib/python3.11/site-packages/sklearn/metrics/_classification.py:1469: UndefinedMetricWarning: Precision and F-score are ill-defined and being set to 0.0 in labels with no predicted samples. Use `zero_division` parameter to control this behavior.\n",
      "  _warn_prf(average, modifier, msg_start, len(result))\n",
      "/Users/bapa/miniconda3/envs/afrika-pos/lib/python3.11/site-packages/sklearn/metrics/_classification.py:1469: UndefinedMetricWarning: Precision and F-score are ill-defined and being set to 0.0 in labels with no predicted samples. Use `zero_division` parameter to control this behavior.\n",
      "  _warn_prf(average, modifier, msg_start, len(result))\n",
      "                                                 \n",
      " 40%|████      | 184/460 [00:16<00:19, 14.29it/s]"
     ]
    },
    {
     "name": "stdout",
     "output_type": "stream",
     "text": [
      "{'eval_loss': 0.34983476996421814, 'eval_precision': 0.7914391627407238, 'eval_recall': 0.7726894254787677, 'eval_f1': 0.756570944938004, 'eval_accuracy': 0.7726894254787677, 'eval_runtime': 0.1505, 'eval_samples_per_second': 963.551, 'eval_steps_per_second': 66.452, 'epoch': 4.0}\n"
     ]
    },
    {
     "name": "stderr",
     "output_type": "stream",
     "text": [
      " 50%|████▉     | 229/460 [00:20<00:15, 14.82it/s]/Users/bapa/miniconda3/envs/afrika-pos/lib/python3.11/site-packages/sklearn/metrics/_classification.py:1469: UndefinedMetricWarning: Precision and F-score are ill-defined and being set to 0.0 in labels with no predicted samples. Use `zero_division` parameter to control this behavior.\n",
      "  _warn_prf(average, modifier, msg_start, len(result))\n",
      "/Users/bapa/miniconda3/envs/afrika-pos/lib/python3.11/site-packages/sklearn/metrics/_classification.py:1469: UndefinedMetricWarning: Precision and F-score are ill-defined and being set to 0.0 in labels with no predicted samples. Use `zero_division` parameter to control this behavior.\n",
      "  _warn_prf(average, modifier, msg_start, len(result))\n",
      "/Users/bapa/miniconda3/envs/afrika-pos/lib/python3.11/site-packages/sklearn/metrics/_classification.py:1469: UndefinedMetricWarning: Precision and F-score are ill-defined and being set to 0.0 in labels with no predicted samples. Use `zero_division` parameter to control this behavior.\n",
      "  _warn_prf(average, modifier, msg_start, len(result))\n",
      "                                                 \n",
      " 50%|█████     | 230/460 [00:20<00:15, 14.82it/s]"
     ]
    },
    {
     "name": "stdout",
     "output_type": "stream",
     "text": [
      "{'eval_loss': 0.3285224139690399, 'eval_precision': 0.7964335826703434, 'eval_recall': 0.7835137385512073, 'eval_f1': 0.7695585240409509, 'eval_accuracy': 0.7835137385512073, 'eval_runtime': 0.1504, 'eval_samples_per_second': 964.006, 'eval_steps_per_second': 66.483, 'epoch': 5.0}\n"
     ]
    },
    {
     "name": "stderr",
     "output_type": "stream",
     "text": [
      " 60%|█████▉    | 275/460 [00:23<00:12, 14.67it/s]/Users/bapa/miniconda3/envs/afrika-pos/lib/python3.11/site-packages/sklearn/metrics/_classification.py:1469: UndefinedMetricWarning: Precision and F-score are ill-defined and being set to 0.0 in labels with no predicted samples. Use `zero_division` parameter to control this behavior.\n",
      "  _warn_prf(average, modifier, msg_start, len(result))\n",
      "/Users/bapa/miniconda3/envs/afrika-pos/lib/python3.11/site-packages/sklearn/metrics/_classification.py:1469: UndefinedMetricWarning: Precision and F-score are ill-defined and being set to 0.0 in labels with no predicted samples. Use `zero_division` parameter to control this behavior.\n",
      "  _warn_prf(average, modifier, msg_start, len(result))\n",
      "/Users/bapa/miniconda3/envs/afrika-pos/lib/python3.11/site-packages/sklearn/metrics/_classification.py:1469: UndefinedMetricWarning: Precision and F-score are ill-defined and being set to 0.0 in labels with no predicted samples. Use `zero_division` parameter to control this behavior.\n",
      "  _warn_prf(average, modifier, msg_start, len(result))\n",
      "                                                 \n",
      " 60%|██████    | 276/460 [00:24<00:12, 14.67it/s]"
     ]
    },
    {
     "name": "stdout",
     "output_type": "stream",
     "text": [
      "{'eval_loss': 0.3171555995941162, 'eval_precision': 0.7960025293417684, 'eval_recall': 0.7880932556203164, 'eval_f1': 0.7769367979660434, 'eval_accuracy': 0.7880932556203164, 'eval_runtime': 0.1494, 'eval_samples_per_second': 970.385, 'eval_steps_per_second': 66.923, 'epoch': 6.0}\n"
     ]
    },
    {
     "name": "stderr",
     "output_type": "stream",
     "text": [
      " 70%|██████▉   | 321/460 [00:27<00:09, 14.52it/s]/Users/bapa/miniconda3/envs/afrika-pos/lib/python3.11/site-packages/sklearn/metrics/_classification.py:1469: UndefinedMetricWarning: Precision and F-score are ill-defined and being set to 0.0 in labels with no predicted samples. Use `zero_division` parameter to control this behavior.\n",
      "  _warn_prf(average, modifier, msg_start, len(result))\n",
      "/Users/bapa/miniconda3/envs/afrika-pos/lib/python3.11/site-packages/sklearn/metrics/_classification.py:1469: UndefinedMetricWarning: Precision and F-score are ill-defined and being set to 0.0 in labels with no predicted samples. Use `zero_division` parameter to control this behavior.\n",
      "  _warn_prf(average, modifier, msg_start, len(result))\n",
      "/Users/bapa/miniconda3/envs/afrika-pos/lib/python3.11/site-packages/sklearn/metrics/_classification.py:1469: UndefinedMetricWarning: Precision and F-score are ill-defined and being set to 0.0 in labels with no predicted samples. Use `zero_division` parameter to control this behavior.\n",
      "  _warn_prf(average, modifier, msg_start, len(result))\n",
      "                                                 \n",
      " 70%|███████   | 322/460 [00:27<00:09, 14.52it/s]"
     ]
    },
    {
     "name": "stdout",
     "output_type": "stream",
     "text": [
      "{'eval_loss': 0.31136199831962585, 'eval_precision': 0.8018064817083843, 'eval_recall': 0.7960033305578684, 'eval_f1': 0.7859250851450855, 'eval_accuracy': 0.7960033305578684, 'eval_runtime': 0.1497, 'eval_samples_per_second': 968.305, 'eval_steps_per_second': 66.78, 'epoch': 7.0}\n"
     ]
    },
    {
     "name": "stderr",
     "output_type": "stream",
     "text": [
      " 80%|███████▉  | 367/460 [00:31<00:06, 14.69it/s]/Users/bapa/miniconda3/envs/afrika-pos/lib/python3.11/site-packages/sklearn/metrics/_classification.py:1469: UndefinedMetricWarning: Precision and F-score are ill-defined and being set to 0.0 in labels with no predicted samples. Use `zero_division` parameter to control this behavior.\n",
      "  _warn_prf(average, modifier, msg_start, len(result))\n",
      "/Users/bapa/miniconda3/envs/afrika-pos/lib/python3.11/site-packages/sklearn/metrics/_classification.py:1469: UndefinedMetricWarning: Precision and F-score are ill-defined and being set to 0.0 in labels with no predicted samples. Use `zero_division` parameter to control this behavior.\n",
      "  _warn_prf(average, modifier, msg_start, len(result))\n",
      "/Users/bapa/miniconda3/envs/afrika-pos/lib/python3.11/site-packages/sklearn/metrics/_classification.py:1469: UndefinedMetricWarning: Precision and F-score are ill-defined and being set to 0.0 in labels with no predicted samples. Use `zero_division` parameter to control this behavior.\n",
      "  _warn_prf(average, modifier, msg_start, len(result))\n",
      "                                                 \n",
      " 80%|████████  | 368/460 [00:31<00:06, 14.69it/s]"
     ]
    },
    {
     "name": "stdout",
     "output_type": "stream",
     "text": [
      "{'eval_loss': 0.3074610233306885, 'eval_precision': 0.8058753188310738, 'eval_recall': 0.8009991673605329, 'eval_f1': 0.7929875944018653, 'eval_accuracy': 0.8009991673605329, 'eval_runtime': 0.149, 'eval_samples_per_second': 972.92, 'eval_steps_per_second': 67.098, 'epoch': 8.0}\n"
     ]
    },
    {
     "name": "stderr",
     "output_type": "stream",
     "text": [
      " 90%|████████▉ | 413/460 [00:34<00:03, 14.44it/s]/Users/bapa/miniconda3/envs/afrika-pos/lib/python3.11/site-packages/sklearn/metrics/_classification.py:1469: UndefinedMetricWarning: Precision and F-score are ill-defined and being set to 0.0 in labels with no predicted samples. Use `zero_division` parameter to control this behavior.\n",
      "  _warn_prf(average, modifier, msg_start, len(result))\n",
      "/Users/bapa/miniconda3/envs/afrika-pos/lib/python3.11/site-packages/sklearn/metrics/_classification.py:1469: UndefinedMetricWarning: Precision and F-score are ill-defined and being set to 0.0 in labels with no predicted samples. Use `zero_division` parameter to control this behavior.\n",
      "  _warn_prf(average, modifier, msg_start, len(result))\n",
      "/Users/bapa/miniconda3/envs/afrika-pos/lib/python3.11/site-packages/sklearn/metrics/_classification.py:1469: UndefinedMetricWarning: Precision and F-score are ill-defined and being set to 0.0 in labels with no predicted samples. Use `zero_division` parameter to control this behavior.\n",
      "  _warn_prf(average, modifier, msg_start, len(result))\n",
      "                                                 \n",
      " 90%|█████████ | 414/460 [00:35<00:03, 14.44it/s]"
     ]
    },
    {
     "name": "stdout",
     "output_type": "stream",
     "text": [
      "{'eval_loss': 0.30380529165267944, 'eval_precision': 0.8104234932662594, 'eval_recall': 0.8051623646960866, 'eval_f1': 0.7982095677113112, 'eval_accuracy': 0.8051623646960866, 'eval_runtime': 0.151, 'eval_samples_per_second': 960.539, 'eval_steps_per_second': 66.244, 'epoch': 9.0}\n"
     ]
    },
    {
     "name": "stderr",
     "output_type": "stream",
     "text": [
      "100%|█████████▉| 459/460 [00:38<00:00, 14.95it/s]/Users/bapa/miniconda3/envs/afrika-pos/lib/python3.11/site-packages/sklearn/metrics/_classification.py:1469: UndefinedMetricWarning: Precision and F-score are ill-defined and being set to 0.0 in labels with no predicted samples. Use `zero_division` parameter to control this behavior.\n",
      "  _warn_prf(average, modifier, msg_start, len(result))\n",
      "/Users/bapa/miniconda3/envs/afrika-pos/lib/python3.11/site-packages/sklearn/metrics/_classification.py:1469: UndefinedMetricWarning: Precision and F-score are ill-defined and being set to 0.0 in labels with no predicted samples. Use `zero_division` parameter to control this behavior.\n",
      "  _warn_prf(average, modifier, msg_start, len(result))\n",
      "/Users/bapa/miniconda3/envs/afrika-pos/lib/python3.11/site-packages/sklearn/metrics/_classification.py:1469: UndefinedMetricWarning: Precision and F-score are ill-defined and being set to 0.0 in labels with no predicted samples. Use `zero_division` parameter to control this behavior.\n",
      "  _warn_prf(average, modifier, msg_start, len(result))\n",
      "                                                 \n",
      "100%|██████████| 460/460 [00:38<00:00, 14.95it/s]"
     ]
    },
    {
     "name": "stdout",
     "output_type": "stream",
     "text": [
      "{'eval_loss': 0.30298858880996704, 'eval_precision': 0.8110532581043788, 'eval_recall': 0.8068276436303081, 'eval_f1': 0.8005439967759289, 'eval_accuracy': 0.8068276436303081, 'eval_runtime': 0.1516, 'eval_samples_per_second': 956.533, 'eval_steps_per_second': 65.968, 'epoch': 10.0}\n"
     ]
    },
    {
     "name": "stderr",
     "output_type": "stream",
     "text": [
      "100%|██████████| 460/460 [00:39<00:00, 11.75it/s]"
     ]
    },
    {
     "name": "stdout",
     "output_type": "stream",
     "text": [
      "{'train_runtime': 39.1646, 'train_samples_per_second': 185.882, 'train_steps_per_second': 11.745, 'train_loss': 0.4611353335173234, 'epoch': 10.0}\n"
     ]
    },
    {
     "name": "stderr",
     "output_type": "stream",
     "text": [
      "\n"
     ]
    }
   ],
   "source": [
    "model.train_model(f\"./models/{LANG}\", num_train_epochs=10)"
   ]
  },
  {
   "cell_type": "code",
   "execution_count": 5,
   "metadata": {},
   "outputs": [
    {
     "name": "stderr",
     "output_type": "stream",
     "text": [
      "/Users/bapa/miniconda3/envs/afrika-pos/lib/python3.11/site-packages/sklearn/metrics/_classification.py:1469: UndefinedMetricWarning: Precision and F-score are ill-defined and being set to 0.0 in labels with no predicted samples. Use `zero_division` parameter to control this behavior.\n",
      "  _warn_prf(average, modifier, msg_start, len(result))\n",
      "/Users/bapa/miniconda3/envs/afrika-pos/lib/python3.11/site-packages/sklearn/metrics/_classification.py:1469: UndefinedMetricWarning: Precision and F-score are ill-defined and being set to 0.0 in labels with no predicted samples. Use `zero_division` parameter to control this behavior.\n",
      "  _warn_prf(average, modifier, msg_start, len(result))\n",
      "/Users/bapa/miniconda3/envs/afrika-pos/lib/python3.11/site-packages/sklearn/metrics/_classification.py:1469: UndefinedMetricWarning: Precision and F-score are ill-defined and being set to 0.0 in labels with no predicted samples. Use `zero_division` parameter to control this behavior.\n",
      "  _warn_prf(average, modifier, msg_start, len(result))\n"
     ]
    },
    {
     "data": {
      "text/html": [
       "<div>\n",
       "<style scoped>\n",
       "    .dataframe tbody tr th:only-of-type {\n",
       "        vertical-align: middle;\n",
       "    }\n",
       "\n",
       "    .dataframe tbody tr th {\n",
       "        vertical-align: top;\n",
       "    }\n",
       "\n",
       "    .dataframe thead th {\n",
       "        text-align: right;\n",
       "    }\n",
       "</style>\n",
       "<table border=\"1\" class=\"dataframe\">\n",
       "  <thead>\n",
       "    <tr style=\"text-align: right;\">\n",
       "      <th></th>\n",
       "      <th>ADJ</th>\n",
       "      <th>ADP</th>\n",
       "      <th>ADV</th>\n",
       "      <th>CCONJ</th>\n",
       "      <th>DET</th>\n",
       "      <th>INTJ</th>\n",
       "      <th>NOUN</th>\n",
       "      <th>NUM</th>\n",
       "      <th>PART</th>\n",
       "      <th>PRON</th>\n",
       "      <th>PROPN</th>\n",
       "      <th>PUNCT</th>\n",
       "      <th>SCONJ</th>\n",
       "      <th>SYM</th>\n",
       "      <th>VERB</th>\n",
       "      <th>accuracy</th>\n",
       "      <th>macro avg</th>\n",
       "      <th>weighted avg</th>\n",
       "    </tr>\n",
       "  </thead>\n",
       "  <tbody>\n",
       "    <tr>\n",
       "      <th>precision</th>\n",
       "      <td>0.679688</td>\n",
       "      <td>0.857857</td>\n",
       "      <td>0.617647</td>\n",
       "      <td>0.994083</td>\n",
       "      <td>0.902062</td>\n",
       "      <td>0.863636</td>\n",
       "      <td>0.716787</td>\n",
       "      <td>0.809091</td>\n",
       "      <td>0.991453</td>\n",
       "      <td>0.869388</td>\n",
       "      <td>0.746936</td>\n",
       "      <td>0.953728</td>\n",
       "      <td>0.806167</td>\n",
       "      <td>0.0</td>\n",
       "      <td>0.578947</td>\n",
       "      <td>0.784857</td>\n",
       "      <td>0.759165</td>\n",
       "      <td>0.787044</td>\n",
       "    </tr>\n",
       "    <tr>\n",
       "      <th>recall</th>\n",
       "      <td>0.334615</td>\n",
       "      <td>0.818760</td>\n",
       "      <td>0.244186</td>\n",
       "      <td>0.861538</td>\n",
       "      <td>0.879397</td>\n",
       "      <td>1.000000</td>\n",
       "      <td>0.863273</td>\n",
       "      <td>0.328413</td>\n",
       "      <td>0.840580</td>\n",
       "      <td>0.516990</td>\n",
       "      <td>0.734752</td>\n",
       "      <td>0.997312</td>\n",
       "      <td>0.890511</td>\n",
       "      <td>0.0</td>\n",
       "      <td>0.617284</td>\n",
       "      <td>0.784857</td>\n",
       "      <td>0.661841</td>\n",
       "      <td>0.784857</td>\n",
       "    </tr>\n",
       "    <tr>\n",
       "      <th>f1-score</th>\n",
       "      <td>0.448454</td>\n",
       "      <td>0.837852</td>\n",
       "      <td>0.350000</td>\n",
       "      <td>0.923077</td>\n",
       "      <td>0.890585</td>\n",
       "      <td>0.926829</td>\n",
       "      <td>0.783240</td>\n",
       "      <td>0.467192</td>\n",
       "      <td>0.909804</td>\n",
       "      <td>0.648402</td>\n",
       "      <td>0.740794</td>\n",
       "      <td>0.975033</td>\n",
       "      <td>0.846243</td>\n",
       "      <td>0.0</td>\n",
       "      <td>0.597501</td>\n",
       "      <td>0.784857</td>\n",
       "      <td>0.689667</td>\n",
       "      <td>0.777207</td>\n",
       "    </tr>\n",
       "    <tr>\n",
       "      <th>support</th>\n",
       "      <td>260.000000</td>\n",
       "      <td>1887.000000</td>\n",
       "      <td>86.000000</td>\n",
       "      <td>195.000000</td>\n",
       "      <td>597.000000</td>\n",
       "      <td>38.000000</td>\n",
       "      <td>2750.000000</td>\n",
       "      <td>271.000000</td>\n",
       "      <td>138.000000</td>\n",
       "      <td>412.000000</td>\n",
       "      <td>1410.000000</td>\n",
       "      <td>1116.000000</td>\n",
       "      <td>411.000000</td>\n",
       "      <td>38.0</td>\n",
       "      <td>891.000000</td>\n",
       "      <td>0.784857</td>\n",
       "      <td>10500.000000</td>\n",
       "      <td>10500.000000</td>\n",
       "    </tr>\n",
       "  </tbody>\n",
       "</table>\n",
       "</div>"
      ],
      "text/plain": [
       "                  ADJ          ADP        ADV       CCONJ         DET  \\\n",
       "precision    0.679688     0.857857   0.617647    0.994083    0.902062   \n",
       "recall       0.334615     0.818760   0.244186    0.861538    0.879397   \n",
       "f1-score     0.448454     0.837852   0.350000    0.923077    0.890585   \n",
       "support    260.000000  1887.000000  86.000000  195.000000  597.000000   \n",
       "\n",
       "                INTJ         NOUN         NUM        PART        PRON  \\\n",
       "precision   0.863636     0.716787    0.809091    0.991453    0.869388   \n",
       "recall      1.000000     0.863273    0.328413    0.840580    0.516990   \n",
       "f1-score    0.926829     0.783240    0.467192    0.909804    0.648402   \n",
       "support    38.000000  2750.000000  271.000000  138.000000  412.000000   \n",
       "\n",
       "                 PROPN        PUNCT       SCONJ   SYM        VERB  accuracy  \\\n",
       "precision     0.746936     0.953728    0.806167   0.0    0.578947  0.784857   \n",
       "recall        0.734752     0.997312    0.890511   0.0    0.617284  0.784857   \n",
       "f1-score      0.740794     0.975033    0.846243   0.0    0.597501  0.784857   \n",
       "support    1410.000000  1116.000000  411.000000  38.0  891.000000  0.784857   \n",
       "\n",
       "              macro avg  weighted avg  \n",
       "precision      0.759165      0.787044  \n",
       "recall         0.661841      0.784857  \n",
       "f1-score       0.689667      0.777207  \n",
       "support    10500.000000  10500.000000  "
      ]
     },
     "execution_count": 5,
     "metadata": {},
     "output_type": "execute_result"
    }
   ],
   "source": [
    "model.evaluate_on_test()"
   ]
  }
 ],
 "metadata": {
  "kernelspec": {
   "display_name": "afrika-pos",
   "language": "python",
   "name": "python3"
  },
  "language_info": {
   "codemirror_mode": {
    "name": "ipython",
    "version": 3
   },
   "file_extension": ".py",
   "mimetype": "text/x-python",
   "name": "python",
   "nbconvert_exporter": "python",
   "pygments_lexer": "ipython3",
   "version": "3.11.4"
  },
  "orig_nbformat": 4
 },
 "nbformat": 4,
 "nbformat_minor": 2
}
